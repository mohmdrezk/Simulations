{
 "cells": [
  {
   "cell_type": "code",
   "execution_count": 1,
   "metadata": {},
   "outputs": [],
   "source": [
    "from sklearn.datasets import make_blobs\n",
    "import pandas as pd\n",
    "import matplotlib.pyplot as plt\n",
    "import seaborn as sns\n",
    "import numpy as np\n",
    "from func.generate_data import generate_data\n",
    "from func.make_plotly_fig import make_plotly_fig\n",
    "from func.classify import classify\n",
    "from func.get_train_test import get_train_test\n"
   ]
  },
  {
   "cell_type": "code",
   "execution_count": 53,
   "metadata": {},
   "outputs": [],
   "source": [
    "num_runs = 20\n",
    "num_reps = 5\n",
    "num_categs = 2\n",
    "num_features = 2\n",
    "average_test = False\n",
    "average_test = False"
   ]
  },
  {
   "cell_type": "code",
   "execution_count": 54,
   "metadata": {},
   "outputs": [
    {
     "data": {
      "text/html": [
       "<div>\n",
       "<style scoped>\n",
       "    .dataframe tbody tr th:only-of-type {\n",
       "        vertical-align: middle;\n",
       "    }\n",
       "\n",
       "    .dataframe tbody tr th {\n",
       "        vertical-align: top;\n",
       "    }\n",
       "\n",
       "    .dataframe thead th {\n",
       "        text-align: right;\n",
       "    }\n",
       "</style>\n",
       "<table border=\"1\" class=\"dataframe\">\n",
       "  <thead>\n",
       "    <tr style=\"text-align: right;\">\n",
       "      <th></th>\n",
       "      <th>feature_1</th>\n",
       "      <th>feature_2</th>\n",
       "      <th>y</th>\n",
       "      <th>CV</th>\n",
       "    </tr>\n",
       "  </thead>\n",
       "  <tbody>\n",
       "    <tr>\n",
       "      <th>0</th>\n",
       "      <td>3.588594</td>\n",
       "      <td>1.610249</td>\n",
       "      <td>1</td>\n",
       "      <td>1.0</td>\n",
       "    </tr>\n",
       "    <tr>\n",
       "      <th>1</th>\n",
       "      <td>1.256369</td>\n",
       "      <td>1.637775</td>\n",
       "      <td>1</td>\n",
       "      <td>1.0</td>\n",
       "    </tr>\n",
       "    <tr>\n",
       "      <th>2</th>\n",
       "      <td>4.192286</td>\n",
       "      <td>-0.009108</td>\n",
       "      <td>1</td>\n",
       "      <td>1.0</td>\n",
       "    </tr>\n",
       "    <tr>\n",
       "      <th>3</th>\n",
       "      <td>0.780393</td>\n",
       "      <td>0.103120</td>\n",
       "      <td>1</td>\n",
       "      <td>1.0</td>\n",
       "    </tr>\n",
       "    <tr>\n",
       "      <th>4</th>\n",
       "      <td>4.041829</td>\n",
       "      <td>7.242505</td>\n",
       "      <td>0</td>\n",
       "      <td>1.0</td>\n",
       "    </tr>\n",
       "    <tr>\n",
       "      <th>...</th>\n",
       "      <td>...</td>\n",
       "      <td>...</td>\n",
       "      <td>...</td>\n",
       "      <td>...</td>\n",
       "    </tr>\n",
       "    <tr>\n",
       "      <th>195</th>\n",
       "      <td>3.438345</td>\n",
       "      <td>2.287162</td>\n",
       "      <td>1</td>\n",
       "      <td>20.0</td>\n",
       "    </tr>\n",
       "    <tr>\n",
       "      <th>196</th>\n",
       "      <td>3.964428</td>\n",
       "      <td>3.893471</td>\n",
       "      <td>0</td>\n",
       "      <td>20.0</td>\n",
       "    </tr>\n",
       "    <tr>\n",
       "      <th>197</th>\n",
       "      <td>5.515779</td>\n",
       "      <td>1.395056</td>\n",
       "      <td>0</td>\n",
       "      <td>20.0</td>\n",
       "    </tr>\n",
       "    <tr>\n",
       "      <th>198</th>\n",
       "      <td>2.876447</td>\n",
       "      <td>4.001073</td>\n",
       "      <td>0</td>\n",
       "      <td>20.0</td>\n",
       "    </tr>\n",
       "    <tr>\n",
       "      <th>199</th>\n",
       "      <td>-1.354030</td>\n",
       "      <td>6.105440</td>\n",
       "      <td>0</td>\n",
       "      <td>20.0</td>\n",
       "    </tr>\n",
       "  </tbody>\n",
       "</table>\n",
       "<p>200 rows × 4 columns</p>\n",
       "</div>"
      ],
      "text/plain": [
       "     feature_1  feature_2  y    CV\n",
       "0     3.588594   1.610249  1   1.0\n",
       "1     1.256369   1.637775  1   1.0\n",
       "2     4.192286  -0.009108  1   1.0\n",
       "3     0.780393   0.103120  1   1.0\n",
       "4     4.041829   7.242505  0   1.0\n",
       "..         ...        ... ..   ...\n",
       "195   3.438345   2.287162  1  20.0\n",
       "196   3.964428   3.893471  0  20.0\n",
       "197   5.515779   1.395056  0  20.0\n",
       "198   2.876447   4.001073  0  20.0\n",
       "199  -1.354030   6.105440  0  20.0\n",
       "\n",
       "[200 rows x 4 columns]"
      ]
     },
     "execution_count": 54,
     "metadata": {},
     "output_type": "execute_result"
    }
   ],
   "source": [
    "df = generate_data(num_runs,num_reps, num_categs, num_features, cluster_std=2)\n",
    "df"
   ]
  },
  {
   "cell_type": "code",
   "execution_count": 109,
   "metadata": {},
   "outputs": [
    {
     "name": "stderr",
     "output_type": "stream",
     "text": [
      "/Users/mohamed/opt/anaconda3/lib/python3.9/site-packages/plotly/tools.py:461: DeprecationWarning:\n",
      "\n",
      "plotly.tools.make_subplots is deprecated, please use plotly.subplots.make_subplots instead\n",
      "\n"
     ]
    },
    {
     "data": {
      "application/vnd.plotly.v1+json": {
       "config": {
        "plotlyServerURL": "https://plot.ly"
       },
       "data": [
        {
         "mode": "markers",
         "name": "Category 0",
         "type": "scatter",
         "x": [
          4.041828507263411,
          -0.368650817005407,
          1.264357220868251,
          -0.7993014167137305,
          -2.284126615385594,
          1.729121140857754,
          -1.5293206415533573,
          -0.6305492498011871,
          -1.6555447424765473,
          3.1755892703207214,
          -0.5635620703441377,
          4.822154131507265,
          -0.29542207821126687,
          1.3928200347002155,
          -1.3699767316818248,
          0.8397868678972326,
          -1.3186672262757098,
          1.6890028728952988,
          0.28044577989418984,
          0.4402633366437343,
          0.9199056218691853,
          1.109304523312831,
          -1.5646999184249721,
          3.3523296632510986,
          2.129451711776377,
          1.9075949580074147,
          0.8977044420915039,
          -0.04534019659125099,
          5.302741977107875,
          0.997270119988136,
          -1.16523516447459,
          0.26828225603952716,
          5.742559628274379,
          3.3338292208657965,
          -0.4128656409162359,
          -0.04303428495681194,
          -0.650022485542413,
          1.3096170692915532,
          -4.129709553121662,
          -2.43627030270353,
          4.711387999399635,
          -2.006245106864716,
          1.780953360901593,
          -1.0241606162326344,
          -0.74618129156291,
          3.2550714476330964,
          0.06520507151180877,
          1.0677871131493872,
          -0.29237410881543213,
          1.3311223630540008,
          0.2379064026616079,
          -2.251525616569408,
          1.6024054818482978,
          -1.232496600310406,
          -0.8146630438408562,
          -0.8493743723418221,
          3.4368514400019365,
          2.498345528840482,
          2.4344512029015686,
          -0.019794822838114734,
          2.2044288192386556,
          0.2016164437305905,
          2.870774014093991,
          2.6899313023518774,
          1.7682835038697857,
          0.10596297510322017,
          -0.5132395655503847,
          4.71138605884643,
          -1.474600959113841,
          1.8639965440373465,
          2.817987726108133,
          -0.7653242198172685,
          2.22673298060087,
          -0.3723952427682571,
          -1.609443740900402,
          -0.8383266502199893,
          2.5198511809738298,
          2.0228233996100027,
          1.5727464269586071,
          0.35316501429174973,
          3.9527744661376945,
          4.742571472659003,
          -0.5028559142361315,
          1.2861649299403277,
          -0.31096672711928597,
          -1.1208358515876902,
          1.230094263953735,
          2.3208595925713658,
          2.8751116923980167,
          0.1699161846001358,
          2.7051424762655065,
          3.229541922759509,
          0.7698323749593794,
          0.14903211702700037,
          -1.0922156050224343,
          0.7793650296956305,
          3.9644282248617073,
          5.51577932652171,
          2.8764469135976736,
          -1.354029603020218
         ],
         "xaxis": "x",
         "y": [
          7.24250486724896,
          3.584681004367307,
          7.212334341374341,
          0.34219439100053606,
          5.229351838499938,
          2.104985746280001,
          5.85876803911221,
          2.9246877719479887,
          3.380618117818972,
          5.614314788893585,
          5.382285710032025,
          7.264816910317238,
          5.656653917341389,
          6.257065400415815,
          8.191029698746975,
          7.730472770747124,
          3.428147237959522,
          5.716933663832286,
          4.61648526565635,
          5.90870011904118,
          5.160451068509225,
          4.908731122927953,
          6.242580743764412,
          4.937672551298089,
          3.8871898162924,
          1.2312999548939425,
          1.9676003319659952,
          1.9425229592035658,
          6.976843226321174,
          7.875528315260061,
          6.412690781310664,
          1.5538847406123524,
          6.192746301429217,
          3.9439376558236883,
          4.004518246793048,
          3.4276387242260173,
          0.8512221227850363,
          5.573850201232602,
          5.611024518329112,
          8.20533811791197,
          6.115876643999161,
          5.1825707299774635,
          2.9341671455677636,
          1.2142451338931668,
          8.123917233646457,
          1.8341356867410847,
          4.338745645498504,
          3.929419627396723,
          3.578304995474114,
          3.5002254550318663,
          3.825028972296537,
          3.8783067670204527,
          2.5955958488449404,
          4.4081174859703385,
          5.077592323166914,
          6.537819903640096,
          6.708547025017213,
          4.547137360434046,
          4.561753148963211,
          8.162851435082361,
          6.148200670581444,
          3.699181826297719,
          3.9937671412667215,
          3.001736140848096,
          2.1176643099873784,
          8.002314784407073,
          2.6509102501303614,
          2.349231567695568,
          5.992513280251484,
          4.971135982196923,
          4.941242633334433,
          3.146087997919559,
          1.0996720162348947,
          4.367448443997092,
          4.837889066146756,
          4.407678119040668,
          5.950795635375853,
          3.960694665003894,
          6.956559120822451,
          4.416118011907881,
          8.095565679509557,
          1.6082692051634973,
          7.389816518261862,
          5.060112366652737,
          -0.1430189770004633,
          1.4637514530904396,
          5.107766054337794,
          5.118710999930611,
          4.478889810218772,
          6.748677468213245,
          2.8194572866355063,
          2.1439243107215433,
          5.124984331325135,
          2.8088777045668745,
          5.666976364011644,
          2.9768307547241752,
          3.893470799916788,
          1.3950559782508605,
          4.0010729108529945,
          6.105440301356764
         ],
         "yaxis": "y"
        },
        {
         "mode": "markers",
         "name": "Category 1",
         "type": "scatter",
         "x": [
          3.58859388472305,
          1.2563694629071276,
          4.1922863200648965,
          0.7803934703284199,
          1.7895063662589668,
          0.8626394445318617,
          -1.0263265074563717,
          2.250717456862589,
          -2.455860937371501,
          4.988424952581234,
          3.097397274338395,
          3.7385300495801506,
          0.6795922993755132,
          1.5198004476449452,
          1.173422256847695,
          -3.2630769545606038,
          -0.6132494213726289,
          3.875625337618062,
          0.08424604606457664,
          0.6711678258640956,
          0.42853900302447223,
          3.601773476238077,
          1.0959558934169826,
          2.339173848074437,
          -2.006101414130111,
          6.573885422814582,
          -0.32245099413517986,
          2.368280597363629,
          1.4334951780359346,
          -0.2594429969488292,
          3.442813826813143,
          5.967092137934266,
          2.1542574847330593,
          -0.035239210861031545,
          3.2123105168906347,
          6.6631009168007616,
          -1.817292090260136,
          1.325880432649507,
          1.7878644020959995,
          3.62792344565083,
          1.7399334891052463,
          -0.5577861820377552,
          0.8579596475869058,
          2.021226693709997,
          0.6872457259584448,
          1.97092461885172,
          1.285507903070327,
          1.1280755721406894,
          1.7833681200762364,
          2.0239032982277685,
          1.6414601691049344,
          0.5269796736199919,
          3.042751076131255,
          4.359930650999118,
          3.549644189842142,
          3.1898480771382167,
          -1.6308715788804191,
          1.4715927959371524,
          0.143377520447324,
          1.6739605342700792,
          2.90778498298908,
          0.6458669697204105,
          -1.340944117431631,
          3.3880336854967066,
          2.0066152726350066,
          3.3418964515587337,
          0.8606353835021525,
          3.103049569101289,
          0.7504503566588379,
          3.4349038505024545,
          5.3515373858479975,
          -1.1106092732372859,
          2.604300236880757,
          2.6279548992174373,
          1.8341862069679327,
          0.7506803215628397,
          -0.7928542965321852,
          0.7990924021497201,
          3.918964269661485,
          0.6160587443292922,
          -0.19838409608060914,
          3.335530573628062,
          1.3484040239184798,
          0.1663750095963772,
          1.4372415833386336,
          1.8189394311757385,
          4.7843312176378205,
          2.61615093206547,
          5.0442366104156156,
          2.853360212713138,
          -0.2570973422109475,
          1.9320147172415831,
          3.45218181964755,
          2.1325286251132543,
          0.6040727645057093,
          0.9695445693994424,
          -1.456513645442561,
          2.6151167195193543,
          3.771115370017551,
          3.438345023573251
         ],
         "xaxis": "x",
         "y": [
          1.6102492948825147,
          1.6377754356329743,
          -0.009107947764838475,
          0.10312003128034153,
          0.3020819011344802,
          0.7925290673988443,
          1.0241876483386003,
          2.063571019444524,
          -1.1473500273332702,
          2.602767538860401,
          -0.2539122796881954,
          0.39874649961603914,
          -1.5304911462503044,
          -1.358359003002077,
          0.3369526695689187,
          2.1103027086566986,
          -1.7957713516571738,
          1.532100090320541,
          -2.046006354989237,
          3.9704177684295323,
          -2.035184995667091,
          -1.4700976204486986,
          2.138380256624962,
          0.25900682564774646,
          5.026649382656576,
          0.8131493566166514,
          -0.11596904865943825,
          1.3620257323384883,
          1.0924639924755037,
          0.2730791576865502,
          0.578516783645403,
          1.6778503053137896,
          1.8853372124998495,
          3.3199542393033386,
          1.5969725739242848,
          -1.2223679855051577,
          1.275220853525594,
          1.2110713704826648,
          3.0531512718904623,
          -0.03517453353394928,
          5.4111106545343555,
          4.213925019174313,
          -1.334130311982852,
          1.6559671310481003,
          4.216765252317681,
          0.3238892751581216,
          1.0863668385720848,
          1.8606266074848612,
          3.1714463851433274,
          1.2195199965343828,
          2.6580214840995016,
          -1.97791928766522,
          0.6654557818692037,
          3.056900844011579,
          -1.4802262504695354,
          0.45231345890762786,
          -0.05828434814303651,
          -0.6253207636853098,
          0.20570010853916398,
          0.10796463187103622,
          2.2514797299984277,
          2.784185109876926,
          1.6722246107280636,
          -0.023775914839169743,
          -0.5783981584734406,
          -2.2435831573289686,
          0.42182020046592283,
          1.0745078340272596,
          0.11575690956273466,
          3.5013561190679336,
          1.2261191709126047,
          2.118422418152347,
          -0.884166506053119,
          2.1153513288888384,
          2.9380090833695363,
          -0.1447149646642849,
          -0.08897610678645129,
          -0.06439057698363859,
          1.5775936275404607,
          -0.7283223171702178,
          -0.5636918457917128,
          -2.336248428683732,
          -2.3352847173641282,
          0.0775642735328399,
          -2.4543439527220166,
          -0.4626927480557639,
          -0.48123470916193845,
          -1.0885835619212245,
          -3.2423063900891282,
          -4.6475218529153635,
          2.4600598633579236,
          0.6830531073555874,
          0.9052054381104755,
          -2.4157665447059706,
          -1.869064250852174,
          1.7297637524607878,
          1.7995325835497664,
          0.7013628806520209,
          3.1798673932530837,
          2.287161947249949
         ],
         "yaxis": "y"
        }
       ],
       "layout": {
        "annotations": [
         {
          "font": {
           "size": 16
          },
          "showarrow": false,
          "text": "f",
          "x": 0.5,
          "xanchor": "center",
          "xref": "paper",
          "y": 1,
          "yanchor": "bottom",
          "yref": "paper"
         }
        ],
        "template": {
         "data": {
          "bar": [
           {
            "error_x": {
             "color": "#2a3f5f"
            },
            "error_y": {
             "color": "#2a3f5f"
            },
            "marker": {
             "line": {
              "color": "#E5ECF6",
              "width": 0.5
             },
             "pattern": {
              "fillmode": "overlay",
              "size": 10,
              "solidity": 0.2
             }
            },
            "type": "bar"
           }
          ],
          "barpolar": [
           {
            "marker": {
             "line": {
              "color": "#E5ECF6",
              "width": 0.5
             },
             "pattern": {
              "fillmode": "overlay",
              "size": 10,
              "solidity": 0.2
             }
            },
            "type": "barpolar"
           }
          ],
          "carpet": [
           {
            "aaxis": {
             "endlinecolor": "#2a3f5f",
             "gridcolor": "white",
             "linecolor": "white",
             "minorgridcolor": "white",
             "startlinecolor": "#2a3f5f"
            },
            "baxis": {
             "endlinecolor": "#2a3f5f",
             "gridcolor": "white",
             "linecolor": "white",
             "minorgridcolor": "white",
             "startlinecolor": "#2a3f5f"
            },
            "type": "carpet"
           }
          ],
          "choropleth": [
           {
            "colorbar": {
             "outlinewidth": 0,
             "ticks": ""
            },
            "type": "choropleth"
           }
          ],
          "contour": [
           {
            "colorbar": {
             "outlinewidth": 0,
             "ticks": ""
            },
            "colorscale": [
             [
              0,
              "#0d0887"
             ],
             [
              0.1111111111111111,
              "#46039f"
             ],
             [
              0.2222222222222222,
              "#7201a8"
             ],
             [
              0.3333333333333333,
              "#9c179e"
             ],
             [
              0.4444444444444444,
              "#bd3786"
             ],
             [
              0.5555555555555556,
              "#d8576b"
             ],
             [
              0.6666666666666666,
              "#ed7953"
             ],
             [
              0.7777777777777778,
              "#fb9f3a"
             ],
             [
              0.8888888888888888,
              "#fdca26"
             ],
             [
              1,
              "#f0f921"
             ]
            ],
            "type": "contour"
           }
          ],
          "contourcarpet": [
           {
            "colorbar": {
             "outlinewidth": 0,
             "ticks": ""
            },
            "type": "contourcarpet"
           }
          ],
          "heatmap": [
           {
            "colorbar": {
             "outlinewidth": 0,
             "ticks": ""
            },
            "colorscale": [
             [
              0,
              "#0d0887"
             ],
             [
              0.1111111111111111,
              "#46039f"
             ],
             [
              0.2222222222222222,
              "#7201a8"
             ],
             [
              0.3333333333333333,
              "#9c179e"
             ],
             [
              0.4444444444444444,
              "#bd3786"
             ],
             [
              0.5555555555555556,
              "#d8576b"
             ],
             [
              0.6666666666666666,
              "#ed7953"
             ],
             [
              0.7777777777777778,
              "#fb9f3a"
             ],
             [
              0.8888888888888888,
              "#fdca26"
             ],
             [
              1,
              "#f0f921"
             ]
            ],
            "type": "heatmap"
           }
          ],
          "heatmapgl": [
           {
            "colorbar": {
             "outlinewidth": 0,
             "ticks": ""
            },
            "colorscale": [
             [
              0,
              "#0d0887"
             ],
             [
              0.1111111111111111,
              "#46039f"
             ],
             [
              0.2222222222222222,
              "#7201a8"
             ],
             [
              0.3333333333333333,
              "#9c179e"
             ],
             [
              0.4444444444444444,
              "#bd3786"
             ],
             [
              0.5555555555555556,
              "#d8576b"
             ],
             [
              0.6666666666666666,
              "#ed7953"
             ],
             [
              0.7777777777777778,
              "#fb9f3a"
             ],
             [
              0.8888888888888888,
              "#fdca26"
             ],
             [
              1,
              "#f0f921"
             ]
            ],
            "type": "heatmapgl"
           }
          ],
          "histogram": [
           {
            "marker": {
             "pattern": {
              "fillmode": "overlay",
              "size": 10,
              "solidity": 0.2
             }
            },
            "type": "histogram"
           }
          ],
          "histogram2d": [
           {
            "colorbar": {
             "outlinewidth": 0,
             "ticks": ""
            },
            "colorscale": [
             [
              0,
              "#0d0887"
             ],
             [
              0.1111111111111111,
              "#46039f"
             ],
             [
              0.2222222222222222,
              "#7201a8"
             ],
             [
              0.3333333333333333,
              "#9c179e"
             ],
             [
              0.4444444444444444,
              "#bd3786"
             ],
             [
              0.5555555555555556,
              "#d8576b"
             ],
             [
              0.6666666666666666,
              "#ed7953"
             ],
             [
              0.7777777777777778,
              "#fb9f3a"
             ],
             [
              0.8888888888888888,
              "#fdca26"
             ],
             [
              1,
              "#f0f921"
             ]
            ],
            "type": "histogram2d"
           }
          ],
          "histogram2dcontour": [
           {
            "colorbar": {
             "outlinewidth": 0,
             "ticks": ""
            },
            "colorscale": [
             [
              0,
              "#0d0887"
             ],
             [
              0.1111111111111111,
              "#46039f"
             ],
             [
              0.2222222222222222,
              "#7201a8"
             ],
             [
              0.3333333333333333,
              "#9c179e"
             ],
             [
              0.4444444444444444,
              "#bd3786"
             ],
             [
              0.5555555555555556,
              "#d8576b"
             ],
             [
              0.6666666666666666,
              "#ed7953"
             ],
             [
              0.7777777777777778,
              "#fb9f3a"
             ],
             [
              0.8888888888888888,
              "#fdca26"
             ],
             [
              1,
              "#f0f921"
             ]
            ],
            "type": "histogram2dcontour"
           }
          ],
          "mesh3d": [
           {
            "colorbar": {
             "outlinewidth": 0,
             "ticks": ""
            },
            "type": "mesh3d"
           }
          ],
          "parcoords": [
           {
            "line": {
             "colorbar": {
              "outlinewidth": 0,
              "ticks": ""
             }
            },
            "type": "parcoords"
           }
          ],
          "pie": [
           {
            "automargin": true,
            "type": "pie"
           }
          ],
          "scatter": [
           {
            "marker": {
             "colorbar": {
              "outlinewidth": 0,
              "ticks": ""
             }
            },
            "type": "scatter"
           }
          ],
          "scatter3d": [
           {
            "line": {
             "colorbar": {
              "outlinewidth": 0,
              "ticks": ""
             }
            },
            "marker": {
             "colorbar": {
              "outlinewidth": 0,
              "ticks": ""
             }
            },
            "type": "scatter3d"
           }
          ],
          "scattercarpet": [
           {
            "marker": {
             "colorbar": {
              "outlinewidth": 0,
              "ticks": ""
             }
            },
            "type": "scattercarpet"
           }
          ],
          "scattergeo": [
           {
            "marker": {
             "colorbar": {
              "outlinewidth": 0,
              "ticks": ""
             }
            },
            "type": "scattergeo"
           }
          ],
          "scattergl": [
           {
            "marker": {
             "colorbar": {
              "outlinewidth": 0,
              "ticks": ""
             }
            },
            "type": "scattergl"
           }
          ],
          "scattermapbox": [
           {
            "marker": {
             "colorbar": {
              "outlinewidth": 0,
              "ticks": ""
             }
            },
            "type": "scattermapbox"
           }
          ],
          "scatterpolar": [
           {
            "marker": {
             "colorbar": {
              "outlinewidth": 0,
              "ticks": ""
             }
            },
            "type": "scatterpolar"
           }
          ],
          "scatterpolargl": [
           {
            "marker": {
             "colorbar": {
              "outlinewidth": 0,
              "ticks": ""
             }
            },
            "type": "scatterpolargl"
           }
          ],
          "scatterternary": [
           {
            "marker": {
             "colorbar": {
              "outlinewidth": 0,
              "ticks": ""
             }
            },
            "type": "scatterternary"
           }
          ],
          "surface": [
           {
            "colorbar": {
             "outlinewidth": 0,
             "ticks": ""
            },
            "colorscale": [
             [
              0,
              "#0d0887"
             ],
             [
              0.1111111111111111,
              "#46039f"
             ],
             [
              0.2222222222222222,
              "#7201a8"
             ],
             [
              0.3333333333333333,
              "#9c179e"
             ],
             [
              0.4444444444444444,
              "#bd3786"
             ],
             [
              0.5555555555555556,
              "#d8576b"
             ],
             [
              0.6666666666666666,
              "#ed7953"
             ],
             [
              0.7777777777777778,
              "#fb9f3a"
             ],
             [
              0.8888888888888888,
              "#fdca26"
             ],
             [
              1,
              "#f0f921"
             ]
            ],
            "type": "surface"
           }
          ],
          "table": [
           {
            "cells": {
             "fill": {
              "color": "#EBF0F8"
             },
             "line": {
              "color": "white"
             }
            },
            "header": {
             "fill": {
              "color": "#C8D4E3"
             },
             "line": {
              "color": "white"
             }
            },
            "type": "table"
           }
          ]
         },
         "layout": {
          "annotationdefaults": {
           "arrowcolor": "#2a3f5f",
           "arrowhead": 0,
           "arrowwidth": 1
          },
          "autotypenumbers": "strict",
          "coloraxis": {
           "colorbar": {
            "outlinewidth": 0,
            "ticks": ""
           }
          },
          "colorscale": {
           "diverging": [
            [
             0,
             "#8e0152"
            ],
            [
             0.1,
             "#c51b7d"
            ],
            [
             0.2,
             "#de77ae"
            ],
            [
             0.3,
             "#f1b6da"
            ],
            [
             0.4,
             "#fde0ef"
            ],
            [
             0.5,
             "#f7f7f7"
            ],
            [
             0.6,
             "#e6f5d0"
            ],
            [
             0.7,
             "#b8e186"
            ],
            [
             0.8,
             "#7fbc41"
            ],
            [
             0.9,
             "#4d9221"
            ],
            [
             1,
             "#276419"
            ]
           ],
           "sequential": [
            [
             0,
             "#0d0887"
            ],
            [
             0.1111111111111111,
             "#46039f"
            ],
            [
             0.2222222222222222,
             "#7201a8"
            ],
            [
             0.3333333333333333,
             "#9c179e"
            ],
            [
             0.4444444444444444,
             "#bd3786"
            ],
            [
             0.5555555555555556,
             "#d8576b"
            ],
            [
             0.6666666666666666,
             "#ed7953"
            ],
            [
             0.7777777777777778,
             "#fb9f3a"
            ],
            [
             0.8888888888888888,
             "#fdca26"
            ],
            [
             1,
             "#f0f921"
            ]
           ],
           "sequentialminus": [
            [
             0,
             "#0d0887"
            ],
            [
             0.1111111111111111,
             "#46039f"
            ],
            [
             0.2222222222222222,
             "#7201a8"
            ],
            [
             0.3333333333333333,
             "#9c179e"
            ],
            [
             0.4444444444444444,
             "#bd3786"
            ],
            [
             0.5555555555555556,
             "#d8576b"
            ],
            [
             0.6666666666666666,
             "#ed7953"
            ],
            [
             0.7777777777777778,
             "#fb9f3a"
            ],
            [
             0.8888888888888888,
             "#fdca26"
            ],
            [
             1,
             "#f0f921"
            ]
           ]
          },
          "colorway": [
           "#636efa",
           "#EF553B",
           "#00cc96",
           "#ab63fa",
           "#FFA15A",
           "#19d3f3",
           "#FF6692",
           "#B6E880",
           "#FF97FF",
           "#FECB52"
          ],
          "font": {
           "color": "#2a3f5f"
          },
          "geo": {
           "bgcolor": "white",
           "lakecolor": "white",
           "landcolor": "#E5ECF6",
           "showlakes": true,
           "showland": true,
           "subunitcolor": "white"
          },
          "hoverlabel": {
           "align": "left"
          },
          "hovermode": "closest",
          "mapbox": {
           "style": "light"
          },
          "paper_bgcolor": "white",
          "plot_bgcolor": "#E5ECF6",
          "polar": {
           "angularaxis": {
            "gridcolor": "white",
            "linecolor": "white",
            "ticks": ""
           },
           "bgcolor": "#E5ECF6",
           "radialaxis": {
            "gridcolor": "white",
            "linecolor": "white",
            "ticks": ""
           }
          },
          "scene": {
           "xaxis": {
            "backgroundcolor": "#E5ECF6",
            "gridcolor": "white",
            "gridwidth": 2,
            "linecolor": "white",
            "showbackground": true,
            "ticks": "",
            "zerolinecolor": "white"
           },
           "yaxis": {
            "backgroundcolor": "#E5ECF6",
            "gridcolor": "white",
            "gridwidth": 2,
            "linecolor": "white",
            "showbackground": true,
            "ticks": "",
            "zerolinecolor": "white"
           },
           "zaxis": {
            "backgroundcolor": "#E5ECF6",
            "gridcolor": "white",
            "gridwidth": 2,
            "linecolor": "white",
            "showbackground": true,
            "ticks": "",
            "zerolinecolor": "white"
           }
          },
          "shapedefaults": {
           "line": {
            "color": "#2a3f5f"
           }
          },
          "ternary": {
           "aaxis": {
            "gridcolor": "white",
            "linecolor": "white",
            "ticks": ""
           },
           "baxis": {
            "gridcolor": "white",
            "linecolor": "white",
            "ticks": ""
           },
           "bgcolor": "#E5ECF6",
           "caxis": {
            "gridcolor": "white",
            "linecolor": "white",
            "ticks": ""
           }
          },
          "title": {
           "x": 0.05
          },
          "xaxis": {
           "automargin": true,
           "gridcolor": "white",
           "linecolor": "white",
           "ticks": "",
           "title": {
            "standoff": 15
           },
           "zerolinecolor": "white",
           "zerolinewidth": 2
          },
          "yaxis": {
           "automargin": true,
           "gridcolor": "white",
           "linecolor": "white",
           "ticks": "",
           "title": {
            "standoff": 15
           },
           "zerolinecolor": "white",
           "zerolinewidth": 2
          }
         }
        },
        "title": {
         "text": "feature_1 vs feature_2"
        },
        "xaxis": {
         "anchor": "y",
         "domain": [
          0,
          1
         ],
         "title": {
          "text": "feature_1"
         }
        },
        "yaxis": {
         "anchor": "x",
         "domain": [
          0,
          1
         ],
         "title": {
          "text": "feature_2"
         }
        }
       }
      }
     },
     "metadata": {},
     "output_type": "display_data"
    },
    {
     "data": {
      "image/png": "[encoded data removed]",
      "text/plain": [
       "<Figure size 432x288 with 1 Axes>"
      ]
     },
     "metadata": {
      "needs_background": "light"
     },
     "output_type": "display_data"
    }
   ],
   "source": [
    "sns.scatterplot(x='feature_1', y='feature_2', hue='y', data=df)\n",
    "# plotly figure\n",
    "make_plotly_fig(df)\n"
   ]
  },
  {
   "cell_type": "code",
   "execution_count": 56,
   "metadata": {},
   "outputs": [
    {
     "name": "stdout",
     "output_type": "stream",
     "text": [
      "Number training samples: 190\n",
      "Number testing samples: 10\n",
      "-- -- -- -- -- \n",
      "Number training samples: 190\n",
      "Number testing samples with Averaging: 2\n",
      "-- -- -- -- -- \n",
      "Number training samples: 190\n",
      "Number testing samples: 10\n",
      "-- -- -- -- -- \n",
      "Number training samples: 190\n",
      "Number testing samples with Averaging: 2\n",
      "-- -- -- -- -- \n",
      "Number training samples: 190\n",
      "Number testing samples: 10\n",
      "-- -- -- -- -- \n",
      "Number training samples: 190\n",
      "Number testing samples with Averaging: 2\n",
      "-- -- -- -- -- \n",
      "Number training samples: 190\n",
      "Number testing samples: 10\n",
      "-- -- -- -- -- \n",
      "Number training samples: 190\n",
      "Number testing samples with Averaging: 2\n",
      "-- -- -- -- -- \n",
      "Number training samples: 190\n",
      "Number testing samples: 10\n",
      "-- -- -- -- -- \n",
      "Number training samples: 190\n",
      "Number testing samples with Averaging: 2\n",
      "-- -- -- -- -- \n",
      "Number training samples: 190\n",
      "Number testing samples: 10\n",
      "-- -- -- -- -- \n",
      "Number training samples: 190\n",
      "Number testing samples with Averaging: 2\n",
      "-- -- -- -- -- \n",
      "Number training samples: 190\n",
      "Number testing samples: 10\n",
      "-- -- -- -- -- \n",
      "Number training samples: 190\n",
      "Number testing samples with Averaging: 2\n",
      "-- -- -- -- -- \n",
      "Number training samples: 190\n",
      "Number testing samples: 10\n",
      "-- -- -- -- -- \n",
      "Number training samples: 190\n",
      "Number testing samples with Averaging: 2\n",
      "-- -- -- -- -- \n",
      "Number training samples: 190\n",
      "Number testing samples: 10\n",
      "-- -- -- -- -- \n",
      "Number training samples: 190\n",
      "Number testing samples with Averaging: 2\n",
      "-- -- -- -- -- \n",
      "Number training samples: 190\n",
      "Number testing samples: 10\n",
      "-- -- -- -- -- \n",
      "Number training samples: 190\n",
      "Number testing samples with Averaging: 2\n",
      "-- -- -- -- -- \n",
      "Number training samples: 190\n",
      "Number testing samples: 10\n",
      "-- -- -- -- -- \n",
      "Number training samples: 190\n",
      "Number testing samples with Averaging: 2\n",
      "-- -- -- -- -- \n",
      "Number training samples: 190\n",
      "Number testing samples: 10\n",
      "-- -- -- -- -- \n",
      "Number training samples: 190\n",
      "Number testing samples with Averaging: 2\n",
      "-- -- -- -- -- \n",
      "Number training samples: 190\n",
      "Number testing samples: 10\n",
      "-- -- -- -- -- \n",
      "Number training samples: 190\n",
      "Number testing samples with Averaging: 2\n",
      "-- -- -- -- -- \n",
      "Number training samples: 190\n",
      "Number testing samples: 10\n",
      "-- -- -- -- -- \n",
      "Number training samples: 190\n",
      "Number testing samples with Averaging: 2\n",
      "-- -- -- -- -- \n",
      "Number training samples: 190\n",
      "Number testing samples: 10\n",
      "-- -- -- -- -- \n",
      "Number training samples: 190\n",
      "Number testing samples with Averaging: 2\n",
      "-- -- -- -- -- \n",
      "Number training samples: 190\n",
      "Number testing samples: 10\n",
      "-- -- -- -- -- \n",
      "Number training samples: 190\n",
      "Number testing samples with Averaging: 2\n",
      "-- -- -- -- -- \n",
      "Number training samples: 190\n",
      "Number testing samples: 10\n",
      "-- -- -- -- -- \n",
      "Number training samples: 190\n",
      "Number testing samples with Averaging: 2\n",
      "-- -- -- -- -- \n",
      "Number training samples: 190\n",
      "Number testing samples: 10\n",
      "-- -- -- -- -- \n",
      "Number training samples: 190\n",
      "Number testing samples with Averaging: 2\n",
      "-- -- -- -- -- \n",
      "Number training samples: 190\n",
      "Number testing samples: 10\n",
      "-- -- -- -- -- \n",
      "Number training samples: 190\n",
      "Number testing samples with Averaging: 2\n",
      "-- -- -- -- -- \n",
      "Number training samples: 190\n",
      "Number testing samples: 10\n",
      "-- -- -- -- -- \n",
      "Number training samples: 190\n",
      "Number testing samples with Averaging: 2\n",
      "-- -- -- -- -- \n"
     ]
    }
   ],
   "source": [
    "num_CVs = df['CV'].nunique()\n",
    "accuracy = []\n",
    "accuracy_avg = []\n",
    "\n",
    "\n",
    "for iCV in range(1,num_CVs+1):\n",
    "\n",
    "    accuracy_tmp=[]\n",
    "    X_train, y_train, X_test, y_test = get_train_test(df,iCV,False)\n",
    "    accuracy_tmp = classify(X_train, y_train, X_test, y_test)\n",
    "    accuracy.append(accuracy_tmp)\n",
    "    print(f'Number training samples: {X_train.shape[0]}')\n",
    "    print(f'Number testing samples: {X_test.shape[0]}')\n",
    "    print(f'-- -- -- -- -- ')\n",
    "    \n",
    "    accuracy_tmp=[]\n",
    "    X_train, y_train, X_test, y_test = get_train_test(df,iCV,True)\n",
    "    accuracy_tmp = classify(X_train, y_train, X_test, y_test)\n",
    "    accuracy_avg.append(accuracy_tmp)\n",
    "    print(f'Number training samples: {X_train.shape[0]}')\n",
    "    print(f'Number testing samples with Averaging: {X_test.shape[0]}')\n",
    "    print(f'-- -- -- -- -- ')\n",
    "    \n",
    "\n",
    "\n"
   ]
  },
  {
   "cell_type": "code",
   "execution_count": 57,
   "metadata": {},
   "outputs": [
    {
     "data": {
      "text/html": [
       "<div>\n",
       "<style scoped>\n",
       "    .dataframe tbody tr th:only-of-type {\n",
       "        vertical-align: middle;\n",
       "    }\n",
       "\n",
       "    .dataframe tbody tr th {\n",
       "        vertical-align: top;\n",
       "    }\n",
       "\n",
       "    .dataframe thead th {\n",
       "        text-align: right;\n",
       "    }\n",
       "</style>\n",
       "<table border=\"1\" class=\"dataframe\">\n",
       "  <thead>\n",
       "    <tr style=\"text-align: right;\">\n",
       "      <th></th>\n",
       "      <th>Accuracy</th>\n",
       "      <th>Accuracy_avg</th>\n",
       "    </tr>\n",
       "  </thead>\n",
       "  <tbody>\n",
       "    <tr>\n",
       "      <th>0</th>\n",
       "      <td>0.9</td>\n",
       "      <td>1.0</td>\n",
       "    </tr>\n",
       "    <tr>\n",
       "      <th>1</th>\n",
       "      <td>0.9</td>\n",
       "      <td>1.0</td>\n",
       "    </tr>\n",
       "    <tr>\n",
       "      <th>2</th>\n",
       "      <td>1.0</td>\n",
       "      <td>1.0</td>\n",
       "    </tr>\n",
       "    <tr>\n",
       "      <th>3</th>\n",
       "      <td>0.8</td>\n",
       "      <td>1.0</td>\n",
       "    </tr>\n",
       "    <tr>\n",
       "      <th>4</th>\n",
       "      <td>0.9</td>\n",
       "      <td>1.0</td>\n",
       "    </tr>\n",
       "    <tr>\n",
       "      <th>5</th>\n",
       "      <td>0.7</td>\n",
       "      <td>1.0</td>\n",
       "    </tr>\n",
       "    <tr>\n",
       "      <th>6</th>\n",
       "      <td>0.8</td>\n",
       "      <td>1.0</td>\n",
       "    </tr>\n",
       "    <tr>\n",
       "      <th>7</th>\n",
       "      <td>0.8</td>\n",
       "      <td>1.0</td>\n",
       "    </tr>\n",
       "    <tr>\n",
       "      <th>8</th>\n",
       "      <td>0.6</td>\n",
       "      <td>0.5</td>\n",
       "    </tr>\n",
       "    <tr>\n",
       "      <th>9</th>\n",
       "      <td>0.8</td>\n",
       "      <td>1.0</td>\n",
       "    </tr>\n",
       "    <tr>\n",
       "      <th>10</th>\n",
       "      <td>0.8</td>\n",
       "      <td>1.0</td>\n",
       "    </tr>\n",
       "    <tr>\n",
       "      <th>11</th>\n",
       "      <td>1.0</td>\n",
       "      <td>1.0</td>\n",
       "    </tr>\n",
       "    <tr>\n",
       "      <th>12</th>\n",
       "      <td>0.8</td>\n",
       "      <td>1.0</td>\n",
       "    </tr>\n",
       "    <tr>\n",
       "      <th>13</th>\n",
       "      <td>0.8</td>\n",
       "      <td>1.0</td>\n",
       "    </tr>\n",
       "    <tr>\n",
       "      <th>14</th>\n",
       "      <td>0.7</td>\n",
       "      <td>1.0</td>\n",
       "    </tr>\n",
       "    <tr>\n",
       "      <th>15</th>\n",
       "      <td>1.0</td>\n",
       "      <td>1.0</td>\n",
       "    </tr>\n",
       "    <tr>\n",
       "      <th>16</th>\n",
       "      <td>0.8</td>\n",
       "      <td>1.0</td>\n",
       "    </tr>\n",
       "    <tr>\n",
       "      <th>17</th>\n",
       "      <td>0.9</td>\n",
       "      <td>1.0</td>\n",
       "    </tr>\n",
       "    <tr>\n",
       "      <th>18</th>\n",
       "      <td>0.7</td>\n",
       "      <td>1.0</td>\n",
       "    </tr>\n",
       "    <tr>\n",
       "      <th>19</th>\n",
       "      <td>0.8</td>\n",
       "      <td>1.0</td>\n",
       "    </tr>\n",
       "  </tbody>\n",
       "</table>\n",
       "</div>"
      ],
      "text/plain": [
       "    Accuracy  Accuracy_avg\n",
       "0        0.9           1.0\n",
       "1        0.9           1.0\n",
       "2        1.0           1.0\n",
       "3        0.8           1.0\n",
       "4        0.9           1.0\n",
       "5        0.7           1.0\n",
       "6        0.8           1.0\n",
       "7        0.8           1.0\n",
       "8        0.6           0.5\n",
       "9        0.8           1.0\n",
       "10       0.8           1.0\n",
       "11       1.0           1.0\n",
       "12       0.8           1.0\n",
       "13       0.8           1.0\n",
       "14       0.7           1.0\n",
       "15       1.0           1.0\n",
       "16       0.8           1.0\n",
       "17       0.9           1.0\n",
       "18       0.7           1.0\n",
       "19       0.8           1.0"
      ]
     },
     "execution_count": 57,
     "metadata": {},
     "output_type": "execute_result"
    }
   ],
   "source": [
    "d = {'Accuracy': accuracy, 'Accuracy_avg': accuracy_avg}\n",
    "x= pd.DataFrame(d)\n",
    "\n",
    "# sns.barplot(x.describe().columns, x.describe().loc['mean'],\n",
    "#             errcolor='black', capsize=.2)\n",
    "\n",
    "# sns.barplot(x.describe().columns, x.describe().loc['mean'],\n",
    "#             errcolor='black', capsize=.2,\n",
    "#             errwidth= x.describe().loc['std'])\n",
    "x"
   ]
  },
  {
   "cell_type": "code",
   "execution_count": 58,
   "metadata": {},
   "outputs": [
    {
     "data": {
      "text/html": [
       "<div>\n",
       "<style scoped>\n",
       "    .dataframe tbody tr th:only-of-type {\n",
       "        vertical-align: middle;\n",
       "    }\n",
       "\n",
       "    .dataframe tbody tr th {\n",
       "        vertical-align: top;\n",
       "    }\n",
       "\n",
       "    .dataframe thead th {\n",
       "        text-align: right;\n",
       "    }\n",
       "</style>\n",
       "<table border=\"1\" class=\"dataframe\">\n",
       "  <thead>\n",
       "    <tr style=\"text-align: right;\">\n",
       "      <th></th>\n",
       "      <th>accuracy</th>\n",
       "      <th>is_avg</th>\n",
       "      <th>area</th>\n",
       "    </tr>\n",
       "  </thead>\n",
       "  <tbody>\n",
       "    <tr>\n",
       "      <th>0</th>\n",
       "      <td>0.9</td>\n",
       "      <td>0.0</td>\n",
       "      <td>0</td>\n",
       "    </tr>\n",
       "    <tr>\n",
       "      <th>1</th>\n",
       "      <td>0.9</td>\n",
       "      <td>0.0</td>\n",
       "      <td>0</td>\n",
       "    </tr>\n",
       "    <tr>\n",
       "      <th>2</th>\n",
       "      <td>1.0</td>\n",
       "      <td>0.0</td>\n",
       "      <td>0</td>\n",
       "    </tr>\n",
       "    <tr>\n",
       "      <th>3</th>\n",
       "      <td>0.8</td>\n",
       "      <td>0.0</td>\n",
       "      <td>0</td>\n",
       "    </tr>\n",
       "    <tr>\n",
       "      <th>4</th>\n",
       "      <td>0.9</td>\n",
       "      <td>0.0</td>\n",
       "      <td>0</td>\n",
       "    </tr>\n",
       "    <tr>\n",
       "      <th>5</th>\n",
       "      <td>0.7</td>\n",
       "      <td>0.0</td>\n",
       "      <td>0</td>\n",
       "    </tr>\n",
       "    <tr>\n",
       "      <th>6</th>\n",
       "      <td>0.8</td>\n",
       "      <td>0.0</td>\n",
       "      <td>0</td>\n",
       "    </tr>\n",
       "    <tr>\n",
       "      <th>7</th>\n",
       "      <td>0.8</td>\n",
       "      <td>0.0</td>\n",
       "      <td>0</td>\n",
       "    </tr>\n",
       "    <tr>\n",
       "      <th>8</th>\n",
       "      <td>0.6</td>\n",
       "      <td>0.0</td>\n",
       "      <td>0</td>\n",
       "    </tr>\n",
       "    <tr>\n",
       "      <th>9</th>\n",
       "      <td>0.8</td>\n",
       "      <td>0.0</td>\n",
       "      <td>0</td>\n",
       "    </tr>\n",
       "    <tr>\n",
       "      <th>10</th>\n",
       "      <td>0.8</td>\n",
       "      <td>0.0</td>\n",
       "      <td>0</td>\n",
       "    </tr>\n",
       "    <tr>\n",
       "      <th>11</th>\n",
       "      <td>1.0</td>\n",
       "      <td>0.0</td>\n",
       "      <td>0</td>\n",
       "    </tr>\n",
       "    <tr>\n",
       "      <th>12</th>\n",
       "      <td>0.8</td>\n",
       "      <td>0.0</td>\n",
       "      <td>0</td>\n",
       "    </tr>\n",
       "    <tr>\n",
       "      <th>13</th>\n",
       "      <td>0.8</td>\n",
       "      <td>0.0</td>\n",
       "      <td>0</td>\n",
       "    </tr>\n",
       "    <tr>\n",
       "      <th>14</th>\n",
       "      <td>0.7</td>\n",
       "      <td>0.0</td>\n",
       "      <td>0</td>\n",
       "    </tr>\n",
       "    <tr>\n",
       "      <th>15</th>\n",
       "      <td>1.0</td>\n",
       "      <td>0.0</td>\n",
       "      <td>0</td>\n",
       "    </tr>\n",
       "    <tr>\n",
       "      <th>16</th>\n",
       "      <td>0.8</td>\n",
       "      <td>0.0</td>\n",
       "      <td>0</td>\n",
       "    </tr>\n",
       "    <tr>\n",
       "      <th>17</th>\n",
       "      <td>0.9</td>\n",
       "      <td>0.0</td>\n",
       "      <td>0</td>\n",
       "    </tr>\n",
       "    <tr>\n",
       "      <th>18</th>\n",
       "      <td>0.7</td>\n",
       "      <td>0.0</td>\n",
       "      <td>0</td>\n",
       "    </tr>\n",
       "    <tr>\n",
       "      <th>19</th>\n",
       "      <td>0.8</td>\n",
       "      <td>0.0</td>\n",
       "      <td>0</td>\n",
       "    </tr>\n",
       "    <tr>\n",
       "      <th>0</th>\n",
       "      <td>1.0</td>\n",
       "      <td>1.0</td>\n",
       "      <td>0</td>\n",
       "    </tr>\n",
       "    <tr>\n",
       "      <th>1</th>\n",
       "      <td>1.0</td>\n",
       "      <td>1.0</td>\n",
       "      <td>0</td>\n",
       "    </tr>\n",
       "    <tr>\n",
       "      <th>2</th>\n",
       "      <td>1.0</td>\n",
       "      <td>1.0</td>\n",
       "      <td>0</td>\n",
       "    </tr>\n",
       "    <tr>\n",
       "      <th>3</th>\n",
       "      <td>1.0</td>\n",
       "      <td>1.0</td>\n",
       "      <td>0</td>\n",
       "    </tr>\n",
       "    <tr>\n",
       "      <th>4</th>\n",
       "      <td>1.0</td>\n",
       "      <td>1.0</td>\n",
       "      <td>0</td>\n",
       "    </tr>\n",
       "    <tr>\n",
       "      <th>5</th>\n",
       "      <td>1.0</td>\n",
       "      <td>1.0</td>\n",
       "      <td>0</td>\n",
       "    </tr>\n",
       "    <tr>\n",
       "      <th>6</th>\n",
       "      <td>1.0</td>\n",
       "      <td>1.0</td>\n",
       "      <td>0</td>\n",
       "    </tr>\n",
       "    <tr>\n",
       "      <th>7</th>\n",
       "      <td>1.0</td>\n",
       "      <td>1.0</td>\n",
       "      <td>0</td>\n",
       "    </tr>\n",
       "    <tr>\n",
       "      <th>8</th>\n",
       "      <td>0.5</td>\n",
       "      <td>1.0</td>\n",
       "      <td>0</td>\n",
       "    </tr>\n",
       "    <tr>\n",
       "      <th>9</th>\n",
       "      <td>1.0</td>\n",
       "      <td>1.0</td>\n",
       "      <td>0</td>\n",
       "    </tr>\n",
       "    <tr>\n",
       "      <th>10</th>\n",
       "      <td>1.0</td>\n",
       "      <td>1.0</td>\n",
       "      <td>0</td>\n",
       "    </tr>\n",
       "    <tr>\n",
       "      <th>11</th>\n",
       "      <td>1.0</td>\n",
       "      <td>1.0</td>\n",
       "      <td>0</td>\n",
       "    </tr>\n",
       "    <tr>\n",
       "      <th>12</th>\n",
       "      <td>1.0</td>\n",
       "      <td>1.0</td>\n",
       "      <td>0</td>\n",
       "    </tr>\n",
       "    <tr>\n",
       "      <th>13</th>\n",
       "      <td>1.0</td>\n",
       "      <td>1.0</td>\n",
       "      <td>0</td>\n",
       "    </tr>\n",
       "    <tr>\n",
       "      <th>14</th>\n",
       "      <td>1.0</td>\n",
       "      <td>1.0</td>\n",
       "      <td>0</td>\n",
       "    </tr>\n",
       "    <tr>\n",
       "      <th>15</th>\n",
       "      <td>1.0</td>\n",
       "      <td>1.0</td>\n",
       "      <td>0</td>\n",
       "    </tr>\n",
       "    <tr>\n",
       "      <th>16</th>\n",
       "      <td>1.0</td>\n",
       "      <td>1.0</td>\n",
       "      <td>0</td>\n",
       "    </tr>\n",
       "    <tr>\n",
       "      <th>17</th>\n",
       "      <td>1.0</td>\n",
       "      <td>1.0</td>\n",
       "      <td>0</td>\n",
       "    </tr>\n",
       "    <tr>\n",
       "      <th>18</th>\n",
       "      <td>1.0</td>\n",
       "      <td>1.0</td>\n",
       "      <td>0</td>\n",
       "    </tr>\n",
       "    <tr>\n",
       "      <th>19</th>\n",
       "      <td>1.0</td>\n",
       "      <td>1.0</td>\n",
       "      <td>0</td>\n",
       "    </tr>\n",
       "  </tbody>\n",
       "</table>\n",
       "</div>"
      ],
      "text/plain": [
       "    accuracy  is_avg  area\n",
       "0        0.9     0.0     0\n",
       "1        0.9     0.0     0\n",
       "2        1.0     0.0     0\n",
       "3        0.8     0.0     0\n",
       "4        0.9     0.0     0\n",
       "5        0.7     0.0     0\n",
       "6        0.8     0.0     0\n",
       "7        0.8     0.0     0\n",
       "8        0.6     0.0     0\n",
       "9        0.8     0.0     0\n",
       "10       0.8     0.0     0\n",
       "11       1.0     0.0     0\n",
       "12       0.8     0.0     0\n",
       "13       0.8     0.0     0\n",
       "14       0.7     0.0     0\n",
       "15       1.0     0.0     0\n",
       "16       0.8     0.0     0\n",
       "17       0.9     0.0     0\n",
       "18       0.7     0.0     0\n",
       "19       0.8     0.0     0\n",
       "0        1.0     1.0     0\n",
       "1        1.0     1.0     0\n",
       "2        1.0     1.0     0\n",
       "3        1.0     1.0     0\n",
       "4        1.0     1.0     0\n",
       "5        1.0     1.0     0\n",
       "6        1.0     1.0     0\n",
       "7        1.0     1.0     0\n",
       "8        0.5     1.0     0\n",
       "9        1.0     1.0     0\n",
       "10       1.0     1.0     0\n",
       "11       1.0     1.0     0\n",
       "12       1.0     1.0     0\n",
       "13       1.0     1.0     0\n",
       "14       1.0     1.0     0\n",
       "15       1.0     1.0     0\n",
       "16       1.0     1.0     0\n",
       "17       1.0     1.0     0\n",
       "18       1.0     1.0     0\n",
       "19       1.0     1.0     0"
      ]
     },
     "execution_count": 58,
     "metadata": {},
     "output_type": "execute_result"
    }
   ],
   "source": [
    "plot_df = pd.DataFrame(pd.concat((x['Accuracy'],x['Accuracy_avg']),axis=0))\n",
    "plot_df = plot_df.rename(columns={0: \"accuracy\"})\n",
    "plot_df['is_avg'] =np.concatenate((np.zeros(num_CVs),np.ones(num_CVs)),axis=0)\n",
    "plot_df['area'] = 0\n",
    "plot_df"
   ]
  },
  {
   "cell_type": "code",
   "execution_count": 59,
   "metadata": {},
   "outputs": [
    {
     "data": {
      "image/png": "[encoded data removed]",
      "text/plain": [
       "<Figure size 483.875x432 with 1 Axes>"
      ]
     },
     "metadata": {
      "needs_background": "light"
     },
     "output_type": "display_data"
    }
   ],
   "source": [
    "\n",
    "# Draw a nested barplot by species and sex\n",
    "g = sns.catplot(\n",
    "    data=plot_df, kind=\"bar\",\n",
    "    x='area', y=\"accuracy\", hue=\"is_avg\",\n",
    "    ci=\"sd\", palette=\"dark\", alpha=.6, height=6\n",
    ")\n",
    "# g.despine(left=True)\n",
    "g.set_axis_labels(\"\", \"Accuracy\")\n",
    "g.legend.set_title(\"\")\n",
    "# g.legend.texts(['Test - All','Test - Averaged'])"
   ]
  },
  {
   "cell_type": "code",
   "execution_count": 107,
   "metadata": {},
   "outputs": [
    {
     "data": {
      "application/vnd.plotly.v1+json": {
       "config": {
        "plotlyServerURL": "https://plot.ly"
       },
       "data": [
        {
         "error_y": {
          "array": [
           2.392422247540412,
           2.5000000000000004
          ],
          "type": "data",
          "visible": true
         },
         "type": "scatter",
         "x": [
          0,
          1
         ],
         "y": [
          82.5,
          97.5
         ]
        }
       ],
       "layout": {
        "template": {
         "data": {
          "bar": [
           {
            "error_x": {
             "color": "#2a3f5f"
            },
            "error_y": {
             "color": "#2a3f5f"
            },
            "marker": {
             "line": {
              "color": "#E5ECF6",
              "width": 0.5
             },
             "pattern": {
              "fillmode": "overlay",
              "size": 10,
              "solidity": 0.2
             }
            },
            "type": "bar"
           }
          ],
          "barpolar": [
           {
            "marker": {
             "line": {
              "color": "#E5ECF6",
              "width": 0.5
             },
             "pattern": {
              "fillmode": "overlay",
              "size": 10,
              "solidity": 0.2
             }
            },
            "type": "barpolar"
           }
          ],
          "carpet": [
           {
            "aaxis": {
             "endlinecolor": "#2a3f5f",
             "gridcolor": "white",
             "linecolor": "white",
             "minorgridcolor": "white",
             "startlinecolor": "#2a3f5f"
            },
            "baxis": {
             "endlinecolor": "#2a3f5f",
             "gridcolor": "white",
             "linecolor": "white",
             "minorgridcolor": "white",
             "startlinecolor": "#2a3f5f"
            },
            "type": "carpet"
           }
          ],
          "choropleth": [
           {
            "colorbar": {
             "outlinewidth": 0,
             "ticks": ""
            },
            "type": "choropleth"
           }
          ],
          "contour": [
           {
            "colorbar": {
             "outlinewidth": 0,
             "ticks": ""
            },
            "colorscale": [
             [
              0,
              "#0d0887"
             ],
             [
              0.1111111111111111,
              "#46039f"
             ],
             [
              0.2222222222222222,
              "#7201a8"
             ],
             [
              0.3333333333333333,
              "#9c179e"
             ],
             [
              0.4444444444444444,
              "#bd3786"
             ],
             [
              0.5555555555555556,
              "#d8576b"
             ],
             [
              0.6666666666666666,
              "#ed7953"
             ],
             [
              0.7777777777777778,
              "#fb9f3a"
             ],
             [
              0.8888888888888888,
              "#fdca26"
             ],
             [
              1,
              "#f0f921"
             ]
            ],
            "type": "contour"
           }
          ],
          "contourcarpet": [
           {
            "colorbar": {
             "outlinewidth": 0,
             "ticks": ""
            },
            "type": "contourcarpet"
           }
          ],
          "heatmap": [
           {
            "colorbar": {
             "outlinewidth": 0,
             "ticks": ""
            },
            "colorscale": [
             [
              0,
              "#0d0887"
             ],
             [
              0.1111111111111111,
              "#46039f"
             ],
             [
              0.2222222222222222,
              "#7201a8"
             ],
             [
              0.3333333333333333,
              "#9c179e"
             ],
             [
              0.4444444444444444,
              "#bd3786"
             ],
             [
              0.5555555555555556,
              "#d8576b"
             ],
             [
              0.6666666666666666,
              "#ed7953"
             ],
             [
              0.7777777777777778,
              "#fb9f3a"
             ],
             [
              0.8888888888888888,
              "#fdca26"
             ],
             [
              1,
              "#f0f921"
             ]
            ],
            "type": "heatmap"
           }
          ],
          "heatmapgl": [
           {
            "colorbar": {
             "outlinewidth": 0,
             "ticks": ""
            },
            "colorscale": [
             [
              0,
              "#0d0887"
             ],
             [
              0.1111111111111111,
              "#46039f"
             ],
             [
              0.2222222222222222,
              "#7201a8"
             ],
             [
              0.3333333333333333,
              "#9c179e"
             ],
             [
              0.4444444444444444,
              "#bd3786"
             ],
             [
              0.5555555555555556,
              "#d8576b"
             ],
             [
              0.6666666666666666,
              "#ed7953"
             ],
             [
              0.7777777777777778,
              "#fb9f3a"
             ],
             [
              0.8888888888888888,
              "#fdca26"
             ],
             [
              1,
              "#f0f921"
             ]
            ],
            "type": "heatmapgl"
           }
          ],
          "histogram": [
           {
            "marker": {
             "pattern": {
              "fillmode": "overlay",
              "size": 10,
              "solidity": 0.2
             }
            },
            "type": "histogram"
           }
          ],
          "histogram2d": [
           {
            "colorbar": {
             "outlinewidth": 0,
             "ticks": ""
            },
            "colorscale": [
             [
              0,
              "#0d0887"
             ],
             [
              0.1111111111111111,
              "#46039f"
             ],
             [
              0.2222222222222222,
              "#7201a8"
             ],
             [
              0.3333333333333333,
              "#9c179e"
             ],
             [
              0.4444444444444444,
              "#bd3786"
             ],
             [
              0.5555555555555556,
              "#d8576b"
             ],
             [
              0.6666666666666666,
              "#ed7953"
             ],
             [
              0.7777777777777778,
              "#fb9f3a"
             ],
             [
              0.8888888888888888,
              "#fdca26"
             ],
             [
              1,
              "#f0f921"
             ]
            ],
            "type": "histogram2d"
           }
          ],
          "histogram2dcontour": [
           {
            "colorbar": {
             "outlinewidth": 0,
             "ticks": ""
            },
            "colorscale": [
             [
              0,
              "#0d0887"
             ],
             [
              0.1111111111111111,
              "#46039f"
             ],
             [
              0.2222222222222222,
              "#7201a8"
             ],
             [
              0.3333333333333333,
              "#9c179e"
             ],
             [
              0.4444444444444444,
              "#bd3786"
             ],
             [
              0.5555555555555556,
              "#d8576b"
             ],
             [
              0.6666666666666666,
              "#ed7953"
             ],
             [
              0.7777777777777778,
              "#fb9f3a"
             ],
             [
              0.8888888888888888,
              "#fdca26"
             ],
             [
              1,
              "#f0f921"
             ]
            ],
            "type": "histogram2dcontour"
           }
          ],
          "mesh3d": [
           {
            "colorbar": {
             "outlinewidth": 0,
             "ticks": ""
            },
            "type": "mesh3d"
           }
          ],
          "parcoords": [
           {
            "line": {
             "colorbar": {
              "outlinewidth": 0,
              "ticks": ""
             }
            },
            "type": "parcoords"
           }
          ],
          "pie": [
           {
            "automargin": true,
            "type": "pie"
           }
          ],
          "scatter": [
           {
            "marker": {
             "colorbar": {
              "outlinewidth": 0,
              "ticks": ""
             }
            },
            "type": "scatter"
           }
          ],
          "scatter3d": [
           {
            "line": {
             "colorbar": {
              "outlinewidth": 0,
              "ticks": ""
             }
            },
            "marker": {
             "colorbar": {
              "outlinewidth": 0,
              "ticks": ""
             }
            },
            "type": "scatter3d"
           }
          ],
          "scattercarpet": [
           {
            "marker": {
             "colorbar": {
              "outlinewidth": 0,
              "ticks": ""
             }
            },
            "type": "scattercarpet"
           }
          ],
          "scattergeo": [
           {
            "marker": {
             "colorbar": {
              "outlinewidth": 0,
              "ticks": ""
             }
            },
            "type": "scattergeo"
           }
          ],
          "scattergl": [
           {
            "marker": {
             "colorbar": {
              "outlinewidth": 0,
              "ticks": ""
             }
            },
            "type": "scattergl"
           }
          ],
          "scattermapbox": [
           {
            "marker": {
             "colorbar": {
              "outlinewidth": 0,
              "ticks": ""
             }
            },
            "type": "scattermapbox"
           }
          ],
          "scatterpolar": [
           {
            "marker": {
             "colorbar": {
              "outlinewidth": 0,
              "ticks": ""
             }
            },
            "type": "scatterpolar"
           }
          ],
          "scatterpolargl": [
           {
            "marker": {
             "colorbar": {
              "outlinewidth": 0,
              "ticks": ""
             }
            },
            "type": "scatterpolargl"
           }
          ],
          "scatterternary": [
           {
            "marker": {
             "colorbar": {
              "outlinewidth": 0,
              "ticks": ""
             }
            },
            "type": "scatterternary"
           }
          ],
          "surface": [
           {
            "colorbar": {
             "outlinewidth": 0,
             "ticks": ""
            },
            "colorscale": [
             [
              0,
              "#0d0887"
             ],
             [
              0.1111111111111111,
              "#46039f"
             ],
             [
              0.2222222222222222,
              "#7201a8"
             ],
             [
              0.3333333333333333,
              "#9c179e"
             ],
             [
              0.4444444444444444,
              "#bd3786"
             ],
             [
              0.5555555555555556,
              "#d8576b"
             ],
             [
              0.6666666666666666,
              "#ed7953"
             ],
             [
              0.7777777777777778,
              "#fb9f3a"
             ],
             [
              0.8888888888888888,
              "#fdca26"
             ],
             [
              1,
              "#f0f921"
             ]
            ],
            "type": "surface"
           }
          ],
          "table": [
           {
            "cells": {
             "fill": {
              "color": "#EBF0F8"
             },
             "line": {
              "color": "white"
             }
            },
            "header": {
             "fill": {
              "color": "#C8D4E3"
             },
             "line": {
              "color": "white"
             }
            },
            "type": "table"
           }
          ]
         },
         "layout": {
          "annotationdefaults": {
           "arrowcolor": "#2a3f5f",
           "arrowhead": 0,
           "arrowwidth": 1
          },
          "autotypenumbers": "strict",
          "coloraxis": {
           "colorbar": {
            "outlinewidth": 0,
            "ticks": ""
           }
          },
          "colorscale": {
           "diverging": [
            [
             0,
             "#8e0152"
            ],
            [
             0.1,
             "#c51b7d"
            ],
            [
             0.2,
             "#de77ae"
            ],
            [
             0.3,
             "#f1b6da"
            ],
            [
             0.4,
             "#fde0ef"
            ],
            [
             0.5,
             "#f7f7f7"
            ],
            [
             0.6,
             "#e6f5d0"
            ],
            [
             0.7,
             "#b8e186"
            ],
            [
             0.8,
             "#7fbc41"
            ],
            [
             0.9,
             "#4d9221"
            ],
            [
             1,
             "#276419"
            ]
           ],
           "sequential": [
            [
             0,
             "#0d0887"
            ],
            [
             0.1111111111111111,
             "#46039f"
            ],
            [
             0.2222222222222222,
             "#7201a8"
            ],
            [
             0.3333333333333333,
             "#9c179e"
            ],
            [
             0.4444444444444444,
             "#bd3786"
            ],
            [
             0.5555555555555556,
             "#d8576b"
            ],
            [
             0.6666666666666666,
             "#ed7953"
            ],
            [
             0.7777777777777778,
             "#fb9f3a"
            ],
            [
             0.8888888888888888,
             "#fdca26"
            ],
            [
             1,
             "#f0f921"
            ]
           ],
           "sequentialminus": [
            [
             0,
             "#0d0887"
            ],
            [
             0.1111111111111111,
             "#46039f"
            ],
            [
             0.2222222222222222,
             "#7201a8"
            ],
            [
             0.3333333333333333,
             "#9c179e"
            ],
            [
             0.4444444444444444,
             "#bd3786"
            ],
            [
             0.5555555555555556,
             "#d8576b"
            ],
            [
             0.6666666666666666,
             "#ed7953"
            ],
            [
             0.7777777777777778,
             "#fb9f3a"
            ],
            [
             0.8888888888888888,
             "#fdca26"
            ],
            [
             1,
             "#f0f921"
            ]
           ]
          },
          "colorway": [
           "#636efa",
           "#EF553B",
           "#00cc96",
           "#ab63fa",
           "#FFA15A",
           "#19d3f3",
           "#FF6692",
           "#B6E880",
           "#FF97FF",
           "#FECB52"
          ],
          "font": {
           "color": "#2a3f5f"
          },
          "geo": {
           "bgcolor": "white",
           "lakecolor": "white",
           "landcolor": "#E5ECF6",
           "showlakes": true,
           "showland": true,
           "subunitcolor": "white"
          },
          "hoverlabel": {
           "align": "left"
          },
          "hovermode": "closest",
          "mapbox": {
           "style": "light"
          },
          "paper_bgcolor": "white",
          "plot_bgcolor": "#E5ECF6",
          "polar": {
           "angularaxis": {
            "gridcolor": "white",
            "linecolor": "white",
            "ticks": ""
           },
           "bgcolor": "#E5ECF6",
           "radialaxis": {
            "gridcolor": "white",
            "linecolor": "white",
            "ticks": ""
           }
          },
          "scene": {
           "xaxis": {
            "backgroundcolor": "#E5ECF6",
            "gridcolor": "white",
            "gridwidth": 2,
            "linecolor": "white",
            "showbackground": true,
            "ticks": "",
            "zerolinecolor": "white"
           },
           "yaxis": {
            "backgroundcolor": "#E5ECF6",
            "gridcolor": "white",
            "gridwidth": 2,
            "linecolor": "white",
            "showbackground": true,
            "ticks": "",
            "zerolinecolor": "white"
           },
           "zaxis": {
            "backgroundcolor": "#E5ECF6",
            "gridcolor": "white",
            "gridwidth": 2,
            "linecolor": "white",
            "showbackground": true,
            "ticks": "",
            "zerolinecolor": "white"
           }
          },
          "shapedefaults": {
           "line": {
            "color": "#2a3f5f"
           }
          },
          "ternary": {
           "aaxis": {
            "gridcolor": "white",
            "linecolor": "white",
            "ticks": ""
           },
           "baxis": {
            "gridcolor": "white",
            "linecolor": "white",
            "ticks": ""
           },
           "bgcolor": "#E5ECF6",
           "caxis": {
            "gridcolor": "white",
            "linecolor": "white",
            "ticks": ""
           }
          },
          "title": {
           "x": 0.05
          },
          "xaxis": {
           "automargin": true,
           "gridcolor": "white",
           "linecolor": "white",
           "ticks": "",
           "title": {
            "standoff": 15
           },
           "zerolinecolor": "white",
           "zerolinewidth": 2
          },
          "yaxis": {
           "automargin": true,
           "gridcolor": "white",
           "linecolor": "white",
           "ticks": "",
           "title": {
            "standoff": 15
           },
           "zerolinecolor": "white",
           "zerolinewidth": 2
          }
         }
        }
       }
      }
     },
     "metadata": {},
     "output_type": "display_data"
    }
   ],
   "source": [
    "# import plotly.plotly as py\n",
    "import plotly.graph_objs as go\n",
    "\n",
    "# create offline plotly bar plot from dataframe\n",
    "def make_figure(df):\n",
    "    # create offline plotly bar plot from dataframe\n",
    "    # create offline plotly bar plot from dataframe\n",
    "    \n",
    "    # calculate standard error of the mean\n",
    "    sem = np.std(x, axis=0, ddof=1) / np.sqrt(x.shape[0])*100\n",
    "    sem = sem.values.tolist()\n",
    "    \n",
    "    average_values = df.mean()*100\n",
    "    average_values = average_values.values.tolist()\n",
    "    fig = go.Figure(data=go.Scatter(\n",
    "            x= [0 ,1],\n",
    "            y=average_values,\n",
    "            error_y=dict(\n",
    "                type='data', # value of error bar given in data coordinates\n",
    "                array=sem,\n",
    "                visible=True)\n",
    "        ))\n",
    "    \n",
    "    fig.show()\n",
    "    \n",
    "    # return go.Figure(data=data, layout=layout)\n",
    "    \n",
    "make_figure(x)\n"
   ]
  },
  {
   "cell_type": "code",
   "execution_count": 86,
   "metadata": {},
   "outputs": [
    {
     "data": {
      "text/plain": [
       "Accuracy        82.5\n",
       "Accuracy_avg    97.5\n",
       "dtype: float64"
      ]
     },
     "execution_count": 86,
     "metadata": {},
     "output_type": "execute_result"
    }
   ],
   "source": [
    "x.mean()*100"
   ]
  },
  {
   "cell_type": "code",
   "execution_count": 73,
   "metadata": {},
   "outputs": [
    {
     "data": {
      "text/plain": [
       "0.825"
      ]
     },
     "execution_count": 73,
     "metadata": {},
     "output_type": "execute_result"
    }
   ],
   "source": [
    "x.mean()[0]"
   ]
  },
  {
   "cell_type": "code",
   "execution_count": 98,
   "metadata": {},
   "outputs": [
    {
     "data": {
      "text/plain": [
       "Accuracy        2.392422\n",
       "Accuracy_avg    2.500000\n",
       "dtype: float64"
      ]
     },
     "execution_count": 98,
     "metadata": {},
     "output_type": "execute_result"
    }
   ],
   "source": [
    "sem * 100"
   ]
  },
  {
   "cell_type": "code",
   "execution_count": 101,
   "metadata": {},
   "outputs": [
    {
     "data": {
      "text/plain": [
       "Accuracy        0.023924\n",
       "Accuracy_avg    0.025000\n",
       "dtype: float64"
      ]
     },
     "execution_count": 101,
     "metadata": {},
     "output_type": "execute_result"
    }
   ],
   "source": [
    "np.std(x, axis=0, ddof=1) / np.sqrt(x.shape[0])"
   ]
  },
  {
   "cell_type": "code",
   "execution_count": 110,
   "metadata": {},
   "outputs": [],
   "source": [
    "import sklearn.datasets "
   ]
  },
  {
   "cell_type": "code",
   "execution_count": null,
   "metadata": {},
   "outputs": [],
   "source": []
  }
 ],
 "metadata": {
  "interpreter": {
   "hash": "9148d443343c8c42e5da62eced0ebaf75bb7a1e11078206126a1d71ff0171775"
  },
  "kernelspec": {
   "display_name": "Python 3.9.7 ('base')",
   "language": "python",
   "name": "python3"
  },
  "language_info": {
   "codemirror_mode": {
    "name": "ipython",
    "version": 3
   },
   "file_extension": ".py",
   "mimetype": "text/x-python",
   "name": "python",
   "nbconvert_exporter": "python",
   "pygments_lexer": "ipython3",
   "version": "3.9.7"
  },
  "orig_nbformat": 4
 },
 "nbformat": 4,
 "nbformat_minor": 2
}
